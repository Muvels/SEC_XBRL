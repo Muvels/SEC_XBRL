from arelle import Cntlr
from arelle import ModelManager
import requests_random_user_agent
import csv
import pandas as pd
import feedparser
import sys
import requests
from datetime import datetime
import lxml.html as LH 
import zipfile
import time
import io
import os

#Change CIK for looking into another Company
cikkey = '0000789019'
year = 2015


#Check if Year is in the Range of Supported Years and check if File is in xml or html format

if year < 2009:
  print('Year is not supported by this Script please enter a Year above 2008')
  sys.exit()

#Get all Companyfilings reported to the SEC 
Feed = feedparser.parse(requests.get("https://www.sec.gov/cgi-bin/browse-edgar?action=getcompany&CIK={}&type=10-k%25&dateb=&owner=exclude&start=0&count=40&output=atom".format(ncikkey)).text)

#Get the Year the User specified before
for index in range(len(Feed.entries)):
    typeofreport = Feed.entries[index]['filing-type']
    reportedyear = datetime.strptime(Feed.entries[index]['filing-date'], '%Y-%d-%M').year - 1 
    if reportedyear == year and typeofreport == '10-K':
      IndexofYear = index
      break
    else:
      IndexofYear = 0
time.sleep(1)
#Build URL to access DIrectory AND Store Accession Number
acn = Feed.entries[IndexofYear]['accession-number'].replace("-","")
createdlink = 'https://www.sec.gov/Archives/edgar/data/{}/{}/'.format(ncikkey, acn)
print(createdlink)
htmlroot = requests.get(createdlink).text
htmlroot = LH.fromstring(htmlroot)
link = htmlroot.xpath('.//a[contains(text(),".zip")]/@href')[0]
time.sleep(1)
#Download XBRL Files
if not os.path.exists(acn):
    os.makedirs(acn)
zipfiledl = requests.get('https://www.sec.gov/' + link)
zip = zipfile.ZipFile(io.BytesIO(zipfiledl.content))
zip.extractall(acn)
XBRLFILE = os.listdir(path=acn)

for element in XBRLFILE:
  if  '_cal' not in element and '_def' not in element and '_lab' not in element and '_pre' not in element and '.xml' in element or '.htm' in element and '10k_'in element or '.htm' in element and '10q_'in element:
    XBRLFILE = element
print(XBRLFILE)

d = {
    'ID': [],
    'Prefix': [],
    'Name': [],
    'Context': [],
    'Year': [],
    'FromTable': [],
    'SourceLine': [],
    'Unit': [],
    'Decimals': [],
    'EffectiveValue': [],
    'Value': [],
}

xbrl = Cntlr.Cntlr().modelManager.load(acn + '/' + XBRLFILE)
for fact in xbrl.facts:
  d['ID'].append(fact.id)
  d['Name'].append(fact.qname)
  d['Context'].append(fact.contextID)
  d['FromTable'].append(fact.attrib)
  d['SourceLine'].append(fact.sourceline)
  d['Prefix'].append(fact.prefix)
  d['EffectiveValue'].append(fact.effectiveValue)
  d['Unit'].append(fact.unitID)
  d['Decimals'].append(fact.decimals)
  d['Value'].append(fact.value)
  if year >= 2016:
    sub = fact.attrib['contextRef'].split("_")[len(fact.attrib['contextRef'].split("_")) - 1]
    sub = sub[6:8] + '-' + sub[4:6] + '-' + sub[0:4]
    d['Year'].append(sub)
  if year < 2016:
    sub = fact.attrib['contextRef'].split("_")[4]
    sub = sub[6:8] + '-' + sub[4:6] + '-' + sub[0:4]
    d['Year'].append(sub)
df = pd.DataFrame(data=d)
df = df.drop_duplicates(subset=['Context'])
df
